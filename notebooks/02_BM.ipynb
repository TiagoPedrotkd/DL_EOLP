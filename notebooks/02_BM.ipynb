{
 "cells": [
  {
   "cell_type": "markdown",
   "id": "2adc9de4",
   "metadata": {},
   "source": [
    "<div style=\"border-left: 6px solid #7B61FF; color:white; padding:20px; border-radius:10px; font-family:Arial, sans-serif; text-align:center; font-size:28px; font-weight:bold;\">\n",
    "  🧱 02 – Baseline Model\n",
    "</div>"
   ]
  }
 ],
 "metadata": {
  "language_info": {
   "name": "python"
  }
 },
 "nbformat": 4,
 "nbformat_minor": 5
}
