{
 "cells": [
  {
   "cell_type": "markdown",
   "id": "c9ba2538",
   "metadata": {},
   "source": [
    "<div style=\"border-left: 6px solid #D7263D; padding:20px; border-radius:10px; font-family:Arial, sans-serif; text-align:center; font-size:28px; font-weight:bold;\">\n",
    "  🧪 05 – Evaluation and Error Analysis\n",
    "</div>\n",
    "\n",
    "<div style=\"margin-left:60px; padding:10px; font-size:18px;\">\n",
    "  <p>In this notebook, we perform a complete evaluation of the best model obtained after hyperparameter tuning. We analyze the model's performance on the test set using classification metrics and visualizations. Additionally, we conduct an error analysis to identify patterns in the model's misclassifications.</p>\n",
    "</div>"
   ]
  },
  {
   "cell_type": "markdown",
   "id": "4a8a4a7b",
   "metadata": {},
   "source": [
    "<div style=\"border-left: 6px solid #27ae60; margin-left:40px; padding:10px; border-radius:10px; font-family:Arial, sans-serif; font-size:24px;\">\n",
    "  <h2 style=\"margin-top: 0; font-size:24px;\">📦 Import Libraries and Define Paths</h2>\n",
    "</div>\n",
    "\n",
    "<div style=\"margin-left:60px; padding:10px;\"> \n",
    "  <p style=\"font-size:18px;\">This is the initial block of the rare species image classification project.</p>\n",
    "\n",
    "  <p>In this section, we perform the following tasks:</p>\n",
    "\n",
    "  <ul style=\"line-height: 1.6;\">\n",
    "    <li>📁 <strong>Import libraries</strong> for data manipulation (pandas), file paths (pathlib), and image processing (PIL).</li>\n",
    "    <li>🖼️ <strong>Apply visual styling</strong> using matplotlib and seaborn to ensure clean and consistent plots.</li>\n",
    "    <li>📂 <strong>Define the main project directories</strong>, including image folders and the metadata CSV file.</li>\n",
    "    <li>✅ <strong>Automatic path validation</strong> to ensure all required files and directories exist.</li>\n",
    "  </ul>\n",
    "\n",
    "  <p>This setup provides a reliable foundation for safely loading and exploring the dataset.</p>\n",
    "</div>\n"
   ]
  },
  {
   "cell_type": "code",
   "execution_count": null,
   "id": "e5538b40",
   "metadata": {},
   "outputs": [],
   "source": [
    "from tensorflow.keras.models import load_model\n",
    "from pathlib import Path\n",
    "from tensorflow.keras.preprocessing.image import ImageDataGenerator\n",
    "from tensorflow.keras.applications.mobilenet_v2 import preprocess_input\n",
    "import pandas as pd\n",
    "from PIL import Image\n",
    "import matplotlib.pyplot as plt\n",
    "from tabulate import tabulate\n",
    "from sklearn.metrics import classification_report"
   ]
  },
  {
   "cell_type": "code",
   "execution_count": null,
   "id": "2c90462c",
   "metadata": {},
   "outputs": [],
   "source": [
    "PROJECT_ROOT = Path().resolve().parent\n",
    "\n",
    "PROCESSED_DIR = PROJECT_ROOT / 'data' / 'processed'\n",
    "IMAGE_DIR = PROJECT_ROOT / 'external'\n",
    "MODELS_DIR = PROJECT_ROOT / 'models'\n",
    "REPORTS_DIR = PROJECT_ROOT / 'reports'\n",
    "OUTPUTS_DIR = PROJECT_ROOT / 'output'\n",
    "LOGS_DIR = OUTPUTS_DIR / 'logs'\n",
    "PREDICTIONS_DIR = OUTPUTS_DIR / 'predictions'\n",
    "TRAIN_DIR = PROCESSED_DIR / 'train'\n",
    "VAL_DIR = PROCESSED_DIR / 'val'\n",
    "TEST_DIR = PROCESSED_DIR / 'test'"
   ]
  },
  {
   "cell_type": "markdown",
   "id": "a6867889",
   "metadata": {},
   "source": [
    "\n",
    "<div style=\"border-left: 6px solid #27ae60; margin-left:40px; padding:10px; border-radius:10px; font-family:Arial, sans-serif; font-size:24px;\">\n",
    "  <h2 style=\"margin-top: 0; font-size:24px;\">📦 Define Parameters</h2>\n",
    "</div>\n",
    "\n",
    "<div style=\"margin-left:60px; padding:10px;\"> \n",
    "  <p>In this section, we define the core parameters that will guide the training process of the model. These include the input image size, batch size, number of training epochs, and the directory structure of the dataset.</p>\n",
    "  \n",
    "  <p>Setting these values early ensures consistency across all steps and allows for easier adjustments when experimenting with different model architectures or datasets.</p>\n",
    "</div>\n"
   ]
  },
  {
   "cell_type": "code",
   "execution_count": null,
   "id": "8a53b185",
   "metadata": {},
   "outputs": [],
   "source": [
    "IMAGE_SIZE = (224, 224)\n",
    "BATCH_SIZE = 32"
   ]
  },
  {
   "cell_type": "markdown",
   "id": "8d2542f6",
   "metadata": {},
   "source": [
    "\n",
    "<div style=\"border-left: 6px solid #233e50; margin-left:40px; padding:10px; border-radius:10px; font-family:Arial, sans-serif; font-size:24px;\">\n",
    "  <h2 style=\"margin-top: 0; font-size:24px;\">📦 MoBileNetV2</h2>\n",
    "</div>\n"
   ]
  },
  {
   "cell_type": "markdown",
   "id": "8514d2df",
   "metadata": {},
   "source": [
    "<div style=\"border-left: 6px solid #27ae60; margin-left:40px; padding:10px; border-radius:10px; font-family:Arial, sans-serif; font-size:24px;\">\n",
    "  <h2 style=\"margin-top: 0; font-size:24px;\">📂 Load Test Dataset</h2>\n",
    "</div>\n",
    "\n",
    "<div style=\"margin-left:60px; padding:10px; font-family:Arial, sans-serif; font-size:16px;\"> \n",
    "  <p>In this section, we load the prepared test dataset that will be used to evaluate the final model's performance.</p>\n",
    "  <p>The test set was kept entirely separate from the training and validation processes to provide an unbiased assessment of the model's generalization ability.</p>\n",
    "  <p>Predictions and metrics obtained here will form the basis for the evaluation and error analysis stages.</p>\n",
    "</div>\n"
   ]
  },
  {
   "cell_type": "code",
   "execution_count": null,
   "id": "03309e60",
   "metadata": {},
   "outputs": [],
   "source": [
    "datagen = ImageDataGenerator(preprocessing_function=preprocess_input)\n",
    "\n",
    "test_generator = datagen.flow_from_directory(TEST_DIR, target_size=IMAGE_SIZE, batch_size=BATCH_SIZE, class_mode='categorical', shuffle=False)\n",
    "\n",
    "model = load_model(MODELS_DIR / 'mobilenetv2_tuned.h5')"
   ]
  },
  {
   "cell_type": "markdown",
   "id": "b13360b2",
   "metadata": {},
   "source": [
    "<div style=\"border-left: 6px solid #27ae60; margin-left:40px; padding:10px; border-radius:10px; font-family:Arial, sans-serif; font-size:24px;\">\n",
    "  <h2 style=\"margin-top: 0; font-size:24px;\">📈 Evaluate on Test Set</h2>\n",
    "</div>\n",
    "\n",
    "<div style=\"margin-left:60px; padding:10px; font-family:Arial, sans-serif; font-size:16px;\"> \n",
    "  <p>The trained model is evaluated on the test set to measure its final performance on unseen data.</p>\n",
    "  <p>By evaluating on the independent test set, we ensure that the reported metrics truly reflect the model's ability to generalize beyond the training and validation samples.</p>\n",
    "  <p>We report both the overall loss and the accuracy achieved on the test set.</p>\n",
    "</div>\n"
   ]
  },
  {
   "cell_type": "code",
   "execution_count": null,
   "id": "5c203d48",
   "metadata": {},
   "outputs": [],
   "source": [
    "loss, acc = model.evaluate(test_generator)\n",
    "print(f\"✅ Test Loss: {loss:.4f}\")\n",
    "print(f\"✅ Test Accuracy: {acc:.2%}\")"
   ]
  },
  {
   "cell_type": "markdown",
   "id": "ad7ce8ac",
   "metadata": {},
   "source": [
    "<div style=\"border-left: 6px solid #27ae60; margin-left:40px; padding:10px; border-radius:10px; font-family:Arial, sans-serif; font-size:24px;\">\n",
    "  <h2 style=\"margin-top: 0; font-size:24px;\">📥 Load Predictions</h2>\n",
    "</div>\n",
    "\n",
    "<div style=\"margin-left:60px; padding:10px; font-family:Arial, sans-serif; font-size:16px;\"> \n",
    "  <p>In this step, we load the previously saved predictions generated by the best model after training and hyperparameter tuning.</p>\n",
    "  <p>The predictions include the filename, the true label, and the predicted label for each image in the test set.</p>\n",
    "  <p>This data will be used for computing evaluation metrics, analyzing errors, and visualizing model performance.</p>\n",
    "</div>\n"
   ]
  },
  {
   "cell_type": "code",
   "execution_count": null,
   "id": "6bbb82cc",
   "metadata": {},
   "outputs": [],
   "source": [
    "predictions_df = pd.read_csv( PREDICTIONS_DIR / 'mobilenetv2_tuned_predictions.csv')\n",
    "print(tabulate(predictions_df, headers=\"keys\", tablefmt=\"fancy_grid\", showindex=False, floatfmt=\".2f\"))"
   ]
  },
  {
   "cell_type": "markdown",
   "id": "5d88166f",
   "metadata": {},
   "source": [
    "<div style=\"border-left: 6px solid #27ae60; margin-left:40px; padding:10px; border-radius:10px; font-family:Arial, sans-serif; font-size:24px;\">\n",
    "  <h2 style=\"margin-top: 0; font-size:24px;\">🔵 Confusion Matrix of the Top 20 Families</h2>\n",
    "</div>\n",
    "\n",
    "<div style=\"margin-left:60px; padding:10px; font-family:Arial, sans-serif; font-size:16px;\"> \n",
    "  <p>In this section, we visualize the confusion matrix focusing exclusively on the top 20 most frequent families in the dataset.</p>\n",
    "\n",
    "  <p>The confusion matrix allows us to analyze how often images of each family are correctly classified (diagonal values) and where the model tends to make mistakes (off-diagonal values).</p>\n",
    "\n",
    "  <p>We observe that the model correctly identifies a large number of examples within these top categories, although some confusions still occur, particularly between visually similar families.</p>\n",
    "</div>\n",
    "\n"
   ]
  },
  {
   "cell_type": "code",
   "execution_count": null,
   "id": "475a847f",
   "metadata": {},
   "outputs": [],
   "source": [
    "confusion_matrix_img_path = REPORTS_DIR / 'figures' / 'mobilenetv2_tuned_confusion_matrix_top20.png'\n",
    "\n",
    "img = Image.open(confusion_matrix_img_path)\n",
    "\n",
    "plt.figure(figsize=(12, 10))\n",
    "plt.imshow(img)\n",
    "plt.axis('off')\n",
    "plt.title(\"Confusion Matrix – Top 20 Classes\", fontsize=16)\n",
    "plt.show()"
   ]
  },
  {
   "cell_type": "markdown",
   "id": "03a51b32",
   "metadata": {},
   "source": [
    "<div style=\"border-left: 6px solid #27ae60; margin-left:40px; padding:10px; border-radius:10px; font-family:Arial, sans-serif; font-size:24px;\">\n",
    "  <h2 style=\"margin-top: 0; font-size:24px;\">📋 Generate Classification Report</h2>\n",
    "</div>\n",
    "\n",
    "<div style=\"margin-left:60px; padding:10px; font-family:Arial, sans-serif; font-size:16px;\"> \n",
    "  <p>In this section, we generate a detailed classification report that summarizes the model's performance across all classes.</p>\n",
    "  \n",
    "  <p>The report includes three key metrics for each class:</p>\n",
    "  \n",
    "  <ul style=\"line-height:1.6;\">\n",
    "    <li><strong>Precision</strong>: Proportion of correct positive predictions.</li>\n",
    "    <li><strong>Recall</strong>: Proportion of actual positives correctly identified.</li>\n",
    "    <li><strong>F1-score</strong>: Harmonic mean of precision and recall, providing a single balanced metric.</li>\n",
    "  </ul>\n",
    "  \n",
    "  <p>By analyzing these metrics, we can better understand which classes the model is handling well and which ones require further attention.</p>\n",
    "</div>\n"
   ]
  },
  {
   "cell_type": "code",
   "execution_count": null,
   "id": "c5e22fa2",
   "metadata": {},
   "outputs": [],
   "source": [
    "label_list = sorted(predictions_df['true_label'].unique())\n",
    "label_to_idx = {label: idx for idx, label in enumerate(label_list)}\n",
    "idx_to_label = {idx: label for label, idx in label_to_idx.items()}\n",
    "\n",
    "true_classes = predictions_df['true_label'].map(label_to_idx).values\n",
    "predicted_classes = predictions_df['predicted_label'].map(label_to_idx).values\n",
    "\n",
    "\n",
    "print(classification_report(true_classes, predicted_classes, target_names=label_list))"
   ]
  },
  {
   "cell_type": "markdown",
   "id": "47f366ce",
   "metadata": {},
   "source": [
    "<div style=\"border-left: 6px solid #27ae60; margin-left:40px; padding:10px; border-radius:10px; font-family:Arial, sans-serif; font-size:24px;\">\n",
    "  <h2 style=\"margin-top: 0; font-size:24px;\">🔍 Error Analysis Based on Predictions CSV</h2>\n",
    "</div>\n",
    "\n",
    "<div style=\"margin-left:60px; padding:10px; font-family:Arial, sans-serif; font-size:16px;\"> \n",
    "  <p>In this section, we perform an error analysis based on the previously saved predictions CSV file.</p>\n",
    "\n",
    "  <p>We identify all cases where the predicted label does not match the true label, enabling us to understand the types of errors the model tends to make.</p>\n",
    "\n",
    "  <p>By inspecting these mistakes, we can detect systematic patterns, such as frequent confusion between visually similar families, and propose strategies to mitigate them in future training cycles.</p>\n",
    "</div>\n"
   ]
  },
  {
   "cell_type": "code",
   "execution_count": null,
   "id": "7bbb7451",
   "metadata": {},
   "outputs": [],
   "source": [
    "errors_df = predictions_df[predictions_df['true_label'] != predictions_df['predicted_label']]\n",
    "print(f\"Número de erros: {len(errors_df)}\")\n",
    "\n",
    "print(tabulate(errors_df.sample(4), headers=\"keys\", tablefmt=\"fancy_grid\", showindex=False, floatfmt=\".2f\"))"
   ]
  },
  {
   "cell_type": "code",
   "execution_count": null,
   "id": "28824f56",
   "metadata": {},
   "outputs": [],
   "source": [
    "num_erros_para_mostrar = 4\n",
    "\n",
    "num_erros_para_mostrar = min(num_erros_para_mostrar, len(errors_df))\n",
    "\n",
    "plt.figure(figsize=(18, 12))\n",
    "\n",
    "for i, (_, row) in enumerate(errors_df.sample(num_erros_para_mostrar).iterrows()):\n",
    "    img_path = TEST_DIR / row['filename']\n",
    "    \n",
    "    try:\n",
    "        img = Image.open(img_path)\n",
    "\n",
    "        plt.subplot(3, 4, i + 1)\n",
    "        plt.imshow(img)\n",
    "        plt.title(f\"True: {row['true_label']}\\nPred: {row['predicted_label']}\", fontsize=10)\n",
    "        plt.axis('off')\n",
    "\n",
    "    except Exception as e:\n",
    "        print(f\"Erro ao abrir a imagem {img_path}: {e}\")\n",
    "\n",
    "plt.suptitle(\"Imagens onde o modelo errou\", fontsize=18)\n",
    "plt.tight_layout()\n",
    "plt.show()"
   ]
  },
  {
   "cell_type": "markdown",
   "id": "1dc3c24f",
   "metadata": {},
   "source": [
    "\n",
    "<div style=\"border-left: 6px solid #233e50; margin-left:40px; padding:10px; border-radius:10px; font-family:Arial, sans-serif; font-size:24px;\">\n",
    "  <h2 style=\"margin-top: 0; font-size:24px;\">📦 EfficientNetB0</h2>\n",
    "</div>\n"
   ]
  },
  {
   "cell_type": "markdown",
   "id": "0c3144db",
   "metadata": {},
   "source": [
    "<div style=\"border-left: 6px solid #27ae60; margin-left:40px; padding:10px; border-radius:10px; font-family:Arial, sans-serif; font-size:24px;\">\n",
    "  <h2 style=\"margin-top: 0; font-size:24px;\">📂 Load Test Dataset</h2>\n",
    "</div>\n",
    "\n",
    "<div style=\"margin-left:60px; padding:10px; font-family:Arial, sans-serif; font-size:16px;\"> \n",
    "  <p>In this section, we load the prepared test dataset that will be used to evaluate the final model's performance.</p>\n",
    "  <p>The test set was kept entirely separate from the training and validation processes to provide an unbiased assessment of the model's generalization ability.</p>\n",
    "  <p>Predictions and metrics obtained here will form the basis for the evaluation and error analysis stages.</p>\n",
    "</div>\n"
   ]
  },
  {
   "cell_type": "code",
   "execution_count": null,
   "id": "a50f9f1f",
   "metadata": {},
   "outputs": [],
   "source": [
    "datagen = ImageDataGenerator(preprocessing_function=preprocess_input)\n",
    "\n",
    "test_generator = datagen.flow_from_directory(TEST_DIR, target_size=IMAGE_SIZE, batch_size=BATCH_SIZE, class_mode='categorical', shuffle=False)\n",
    "\n",
    "model = load_model(MODELS_DIR / 'efficientnetb0_best.h5')"
   ]
  },
  {
   "cell_type": "markdown",
   "id": "b27716e9",
   "metadata": {},
   "source": [
    "<div style=\"border-left: 6px solid #27ae60; margin-left:40px; padding:10px; border-radius:10px; font-family:Arial, sans-serif; font-size:24px;\">\n",
    "  <h2 style=\"margin-top: 0; font-size:24px;\">📈 Evaluate on Test Set</h2>\n",
    "</div>\n",
    "\n",
    "<div style=\"margin-left:60px; padding:10px; font-family:Arial, sans-serif; font-size:16px;\"> \n",
    "  <p>The trained model is evaluated on the test set to measure its final performance on unseen data.</p>\n",
    "  <p>By evaluating on the independent test set, we ensure that the reported metrics truly reflect the model's ability to generalize beyond the training and validation samples.</p>\n",
    "  <p>We report both the overall loss and the accuracy achieved on the test set.</p>\n",
    "</div>\n"
   ]
  },
  {
   "cell_type": "code",
   "execution_count": null,
   "id": "1857c275",
   "metadata": {},
   "outputs": [],
   "source": [
    "loss, acc = model.evaluate(test_generator)\n",
    "print(f\"✅ Test Loss: {loss:.4f}\")\n",
    "print(f\"✅ Test Accuracy: {acc:.2%}\")"
   ]
  },
  {
   "cell_type": "markdown",
   "id": "a9006fe9",
   "metadata": {},
   "source": [
    "<div style=\"border-left: 6px solid #27ae60; margin-left:40px; padding:10px; border-radius:10px; font-family:Arial, sans-serif; font-size:24px;\">\n",
    "  <h2 style=\"margin-top: 0; font-size:24px;\">📥 Load Predictions</h2>\n",
    "</div>\n",
    "\n",
    "<div style=\"margin-left:60px; padding:10px; font-family:Arial, sans-serif; font-size:16px;\"> \n",
    "  <p>In this step, we load the previously saved predictions generated by the best model after training and hyperparameter tuning.</p>\n",
    "  <p>The predictions include the filename, the true label, and the predicted label for each image in the test set.</p>\n",
    "  <p>This data will be used for computing evaluation metrics, analyzing errors, and visualizing model performance.</p>\n",
    "</div>\n"
   ]
  },
  {
   "cell_type": "code",
   "execution_count": null,
   "id": "656f8192",
   "metadata": {},
   "outputs": [],
   "source": [
    "predictions_df = pd.read_csv( PREDICTIONS_DIR / 'efficientnetb0_best_predictions.csv')\n",
    "print(tabulate(predictions_df, headers=\"keys\", tablefmt=\"fancy_grid\", showindex=False, floatfmt=\".2f\"))"
   ]
  },
  {
   "cell_type": "markdown",
   "id": "3605ecee",
   "metadata": {},
   "source": [
    "<div style=\"border-left: 6px solid #27ae60; margin-left:40px; padding:10px; border-radius:10px; font-family:Arial, sans-serif; font-size:24px;\">\n",
    "  <h2 style=\"margin-top: 0; font-size:24px;\">🔵 Confusion Matrix of the Top 20 Families</h2>\n",
    "</div>\n",
    "\n",
    "<div style=\"margin-left:60px; padding:10px; font-family:Arial, sans-serif; font-size:16px;\"> \n",
    "  <p>In this section, we visualize the confusion matrix focusing exclusively on the top 20 most frequent families in the dataset.</p>\n",
    "\n",
    "  <p>The confusion matrix allows us to analyze how often images of each family are correctly classified (diagonal values) and where the model tends to make mistakes (off-diagonal values).</p>\n",
    "\n",
    "  <p>We observe that the model correctly identifies a large number of examples within these top categories, although some confusions still occur, particularly between visually similar families.</p>\n",
    "</div>\n",
    "\n"
   ]
  },
  {
   "cell_type": "code",
   "execution_count": null,
   "id": "67431ce6",
   "metadata": {},
   "outputs": [],
   "source": [
    "confusion_matrix_img_path = REPORTS_DIR / 'figures' / 'efficientnetb0_best_confusion_matrix_top20.png'\n",
    "\n",
    "img = Image.open(confusion_matrix_img_path)\n",
    "\n",
    "plt.figure(figsize=(12, 10))\n",
    "plt.imshow(img)\n",
    "plt.axis('off')\n",
    "plt.title(\"Confusion Matrix – Top 20 Classes\", fontsize=16)\n",
    "plt.show()"
   ]
  },
  {
   "cell_type": "markdown",
   "id": "8cdb2160",
   "metadata": {},
   "source": [
    "<div style=\"border-left: 6px solid #27ae60; margin-left:40px; padding:10px; border-radius:10px; font-family:Arial, sans-serif; font-size:24px;\">\n",
    "  <h2 style=\"margin-top: 0; font-size:24px;\">📋 Generate Classification Report</h2>\n",
    "</div>\n",
    "\n",
    "<div style=\"margin-left:60px; padding:10px; font-family:Arial, sans-serif; font-size:16px;\"> \n",
    "  <p>In this section, we generate a detailed classification report that summarizes the model's performance across all classes.</p>\n",
    "  \n",
    "  <p>The report includes three key metrics for each class:</p>\n",
    "  \n",
    "  <ul style=\"line-height:1.6;\">\n",
    "    <li><strong>Precision</strong>: Proportion of correct positive predictions.</li>\n",
    "    <li><strong>Recall</strong>: Proportion of actual positives correctly identified.</li>\n",
    "    <li><strong>F1-score</strong>: Harmonic mean of precision and recall, providing a single balanced metric.</li>\n",
    "  </ul>\n",
    "  \n",
    "  <p>By analyzing these metrics, we can better understand which classes the model is handling well and which ones require further attention.</p>\n",
    "</div>\n"
   ]
  },
  {
   "cell_type": "code",
   "execution_count": null,
   "id": "d2c2d9f4",
   "metadata": {},
   "outputs": [],
   "source": [
    "label_list = sorted(predictions_df['true_label'].unique())\n",
    "label_to_idx = {label: idx for idx, label in enumerate(label_list)}\n",
    "idx_to_label = {idx: label for label, idx in label_to_idx.items()}\n",
    "\n",
    "true_classes = predictions_df['true_label'].map(label_to_idx).values\n",
    "predicted_classes = predictions_df['predicted_label'].map(label_to_idx).values\n",
    "\n",
    "\n",
    "print(classification_report(true_classes, predicted_classes, target_names=label_list))"
   ]
  },
  {
   "cell_type": "markdown",
   "id": "d6bda645",
   "metadata": {},
   "source": [
    "<div style=\"border-left: 6px solid #27ae60; margin-left:40px; padding:10px; border-radius:10px; font-family:Arial, sans-serif; font-size:24px;\">\n",
    "  <h2 style=\"margin-top: 0; font-size:24px;\">🔍 Error Analysis Based on Predictions CSV</h2>\n",
    "</div>\n",
    "\n",
    "<div style=\"margin-left:60px; padding:10px; font-family:Arial, sans-serif; font-size:16px;\"> \n",
    "  <p>In this section, we perform an error analysis based on the previously saved predictions CSV file.</p>\n",
    "\n",
    "  <p>We identify all cases where the predicted label does not match the true label, enabling us to understand the types of errors the model tends to make.</p>\n",
    "\n",
    "  <p>By inspecting these mistakes, we can detect systematic patterns, such as frequent confusion between visually similar families, and propose strategies to mitigate them in future training cycles.</p>\n",
    "</div>\n"
   ]
  },
  {
   "cell_type": "code",
   "execution_count": null,
   "id": "3778f791",
   "metadata": {},
   "outputs": [],
   "source": [
    "errors_df = predictions_df[predictions_df['true_label'] != predictions_df['predicted_label']]\n",
    "print(f\"Número de erros: {len(errors_df)}\")\n",
    "\n",
    "print(tabulate(errors_df.sample(4), headers=\"keys\", tablefmt=\"fancy_grid\", showindex=False, floatfmt=\".2f\"))"
   ]
  },
  {
   "cell_type": "code",
   "execution_count": null,
   "id": "ff74d189",
   "metadata": {},
   "outputs": [],
   "source": [
    "num_erros_para_mostrar = 4\n",
    "\n",
    "num_erros_para_mostrar = min(num_erros_para_mostrar, len(errors_df))\n",
    "\n",
    "plt.figure(figsize=(18, 12))\n",
    "\n",
    "for i, (_, row) in enumerate(errors_df.sample(num_erros_para_mostrar).iterrows()):\n",
    "    img_path = TEST_DIR / row['filename']\n",
    "    \n",
    "    try:\n",
    "        img = Image.open(img_path)\n",
    "\n",
    "        plt.subplot(3, 4, i + 1)\n",
    "        plt.imshow(img)\n",
    "        plt.title(f\"True: {row['true_label']}\\nPred: {row['predicted_label']}\", fontsize=10)\n",
    "        plt.axis('off')\n",
    "\n",
    "    except Exception as e:\n",
    "        print(f\"Erro ao abrir a imagem {img_path}: {e}\")\n",
    "\n",
    "plt.suptitle(\"Imagens onde o modelo errou\", fontsize=18)\n",
    "plt.tight_layout()\n",
    "plt.show()"
   ]
  }
 ],
 "metadata": {
  "kernelspec": {
   "display_name": "Python 3",
   "language": "python",
   "name": "python3"
  },
  "language_info": {
   "codemirror_mode": {
    "name": "ipython",
    "version": 3
   },
   "file_extension": ".py",
   "mimetype": "text/x-python",
   "name": "python",
   "nbconvert_exporter": "python",
   "pygments_lexer": "ipython3",
   "version": "3.11.0"
  }
 },
 "nbformat": 4,
 "nbformat_minor": 5
}
