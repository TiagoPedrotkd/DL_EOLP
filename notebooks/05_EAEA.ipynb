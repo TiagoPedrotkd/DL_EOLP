{
 "cells": [
  {
   "cell_type": "markdown",
   "id": "c9ba2538",
   "metadata": {},
   "source": [
    "<div style=\"border-left: 6px solid #D7263D; color:white; padding:20px; border-radius:10px; font-family:Arial, sans-serif; text-align:center; font-size:28px; font-weight:bold;\">\n",
    "  🧪 05 – Evaluation and Error Analysis\n",
    "</div>\n"
   ]
  }
 ],
 "metadata": {
  "language_info": {
   "name": "python"
  }
 },
 "nbformat": 4,
 "nbformat_minor": 5
}
