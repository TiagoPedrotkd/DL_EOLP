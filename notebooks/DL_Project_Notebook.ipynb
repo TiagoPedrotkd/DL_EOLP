{
 "cells": [
  {
   "cell_type": "markdown",
   "id": "plJFj0Bju2xE",
   "metadata": {
    "id": "plJFj0Bju2xE"
   },
   "source": [
    "# Deep Learning Project"
   ]
  },
  {
   "cell_type": "code",
   "execution_count": 1,
   "id": "456a67f4-9bb8-4f31-ade8-f2b64337a93e",
   "metadata": {
    "colab": {
     "base_uri": "https://localhost:8080/"
    },
    "id": "456a67f4-9bb8-4f31-ade8-f2b64337a93e",
    "outputId": "51c70e9a-ae91-4e7f-fbd4-067f7b10353e"
   },
   "outputs": [],
   "source": [
    "#from google.colab import drive\n",
    "#drive.mount('/content/drive')"
   ]
  },
  {
   "cell_type": "markdown",
   "id": "HXYOeBD6u8w9",
   "metadata": {
    "id": "HXYOeBD6u8w9"
   },
   "source": [
    "## Importing Libraries"
   ]
  },
  {
   "cell_type": "code",
   "execution_count": 2,
   "id": "302758bd-ea4c-42bc-a6c6-8aaf72197501",
   "metadata": {
    "colab": {
     "base_uri": "https://localhost:8080/"
    },
    "id": "302758bd-ea4c-42bc-a6c6-8aaf72197501",
    "outputId": "b9519682-8b82-4b91-c291-642261c28685"
   },
   "outputs": [],
   "source": [
    "# Basic Libraries\n",
    "import pandas as pd\n",
    "import numpy as np\n",
    "import os\n",
    "import time\n",
    "\n",
    "# Visualizations\n",
    "import matplotlib.pyplot as plt\n",
    "import seaborn as sns\n",
    "\n",
    "# Modeling\n",
    "import tensorflow as tf\n",
    "from tensorflow.keras import layers, models, regularizers\n",
    "from tensorflow.keras.preprocessing.image import ImageDataGenerator\n",
    "from tensorflow.keras.preprocessing import image\n",
    "from tensorflow.keras.models import load_model\n",
    "from tensorflow.keras.callbacks import ModelCheckpoint, EarlyStopping\n",
    "from tensorflow.keras.utils import to_categorical\n",
    "from sklearn.metrics import classification_report, f1_score\n",
    "from sklearn.model_selection import StratifiedKFold, train_test_split\n",
    "from sklearn.preprocessing import LabelEncoder\n",
    "from tensorflow.keras.models import Sequential\n",
    "from tensorflow.keras.layers import Conv2D, MaxPooling2D, Flatten, Dense\n",
    "\n",
    "import cv2 as cv\n",
    "\n",
    "# Keras Hypertuner - Hyperband\n",
    "#from tensorflow.keras.optimizers import Adam \n",
    "#from keras_tuner.tuners import Hyperband\n",
    "\n",
    "# QoL\n",
    "import warnings\n",
    "warnings.filterwarnings(\"ignore\")\n",
    "\n",
    "%load_ext autoreload\n",
    "%autoreload 2"
   ]
  },
  {
   "cell_type": "markdown",
   "id": "IU-aZ7-WvL7C",
   "metadata": {
    "id": "IU-aZ7-WvL7C"
   },
   "source": [
    "Verifying if tensorflow is using the GPU"
   ]
  },
  {
   "cell_type": "code",
   "execution_count": 3,
   "id": "424ac92a-5ac9-4227-8687-5c1ca4c5ea66",
   "metadata": {
    "colab": {
     "base_uri": "https://localhost:8080/"
    },
    "id": "424ac92a-5ac9-4227-8687-5c1ca4c5ea66",
    "outputId": "42da6fea-ce48-4a66-94fd-0e814362ef38"
   },
   "outputs": [
    {
     "data": {
      "text/plain": [
       "[]"
      ]
     },
     "execution_count": 3,
     "metadata": {},
     "output_type": "execute_result"
    }
   ],
   "source": [
    "tf.config.list_physical_devices('GPU') # Not working"
   ]
  },
  {
   "cell_type": "markdown",
   "id": "0QLBLnxxvVee",
   "metadata": {
    "id": "0QLBLnxxvVee"
   },
   "source": [
    "Computing the time that has passed since a given start time"
   ]
  },
  {
   "cell_type": "code",
   "execution_count": 4,
   "id": "cfa7a331-ab2c-4275-8607-93452c5c5d24",
   "metadata": {
    "id": "cfa7a331-ab2c-4275-8607-93452c5c5d24"
   },
   "outputs": [],
   "source": [
    "#Start Time\n",
    "start_time = time.time()"
   ]
  },
  {
   "cell_type": "markdown",
   "id": "6XyX6nP1vdak",
   "metadata": {
    "id": "6XyX6nP1vdak"
   },
   "source": [
    "## Importing Data"
   ]
  },
  {
   "cell_type": "markdown",
   "id": "L3LFUUoAv3Vr",
   "metadata": {
    "id": "L3LFUUoAv3Vr"
   },
   "source": [
    "Creating a path"
   ]
  },
  {
   "cell_type": "code",
   "execution_count": 5,
   "id": "913d55b0-6575-48c4-a948-2afa9efe3b22",
   "metadata": {
    "id": "913d55b0-6575-48c4-a948-2afa9efe3b22"
   },
   "outputs": [],
   "source": [
    "path = \".\"\n",
    "#path = \"/content/drive/MyDrive/....\" Google Drive"
   ]
  },
  {
   "cell_type": "code",
   "execution_count": 6,
   "id": "WoejZtS-v20o",
   "metadata": {
    "id": "WoejZtS-v20o"
   },
   "outputs": [],
   "source": [
    "metadata = pd.read_csv(path + '/rare_species 1/metadata.csv')"
   ]
  },
  {
   "cell_type": "code",
   "execution_count": 7,
   "id": "oj6MxdgwwTxP",
   "metadata": {
    "colab": {
     "base_uri": "https://localhost:8080/",
     "height": 362
    },
    "id": "oj6MxdgwwTxP",
    "outputId": "a20397a2-aec9-44fe-9252-8cd9a8032de8"
   },
   "outputs": [
    {
     "data": {
      "text/html": [
       "<div>\n",
       "<style scoped>\n",
       "    .dataframe tbody tr th:only-of-type {\n",
       "        vertical-align: middle;\n",
       "    }\n",
       "\n",
       "    .dataframe tbody tr th {\n",
       "        vertical-align: top;\n",
       "    }\n",
       "\n",
       "    .dataframe thead th {\n",
       "        text-align: right;\n",
       "    }\n",
       "</style>\n",
       "<table border=\"1\" class=\"dataframe\">\n",
       "  <thead>\n",
       "    <tr style=\"text-align: right;\">\n",
       "      <th></th>\n",
       "      <th>rare_species_id</th>\n",
       "      <th>eol_content_id</th>\n",
       "      <th>eol_page_id</th>\n",
       "      <th>kingdom</th>\n",
       "      <th>phylum</th>\n",
       "      <th>family</th>\n",
       "      <th>file_path</th>\n",
       "    </tr>\n",
       "  </thead>\n",
       "  <tbody>\n",
       "    <tr>\n",
       "      <th>0</th>\n",
       "      <td>75fd91cb-2881-41cd-88e6-de451e8b60e2</td>\n",
       "      <td>12853737</td>\n",
       "      <td>449393</td>\n",
       "      <td>animalia</td>\n",
       "      <td>mollusca</td>\n",
       "      <td>unionidae</td>\n",
       "      <td>mollusca_unionidae/12853737_449393_eol-full-si...</td>\n",
       "    </tr>\n",
       "    <tr>\n",
       "      <th>1</th>\n",
       "      <td>28c508bc-63ff-4e60-9c8f-1934367e1528</td>\n",
       "      <td>20969394</td>\n",
       "      <td>793083</td>\n",
       "      <td>animalia</td>\n",
       "      <td>chordata</td>\n",
       "      <td>geoemydidae</td>\n",
       "      <td>chordata_geoemydidae/20969394_793083_eol-full-...</td>\n",
       "    </tr>\n",
       "    <tr>\n",
       "      <th>2</th>\n",
       "      <td>00372441-588c-4af8-9665-29bee20822c0</td>\n",
       "      <td>28895411</td>\n",
       "      <td>319982</td>\n",
       "      <td>animalia</td>\n",
       "      <td>chordata</td>\n",
       "      <td>cryptobranchidae</td>\n",
       "      <td>chordata_cryptobranchidae/28895411_319982_eol-...</td>\n",
       "    </tr>\n",
       "    <tr>\n",
       "      <th>3</th>\n",
       "      <td>29cc6040-6af2-49ee-86ec-ab7d89793828</td>\n",
       "      <td>29658536</td>\n",
       "      <td>45510188</td>\n",
       "      <td>animalia</td>\n",
       "      <td>chordata</td>\n",
       "      <td>turdidae</td>\n",
       "      <td>chordata_turdidae/29658536_45510188_eol-full-s...</td>\n",
       "    </tr>\n",
       "    <tr>\n",
       "      <th>4</th>\n",
       "      <td>94004bff-3a33-4758-8125-bf72e6e57eab</td>\n",
       "      <td>21252576</td>\n",
       "      <td>7250886</td>\n",
       "      <td>animalia</td>\n",
       "      <td>chordata</td>\n",
       "      <td>indriidae</td>\n",
       "      <td>chordata_indriidae/21252576_7250886_eol-full-s...</td>\n",
       "    </tr>\n",
       "    <tr>\n",
       "      <th>5</th>\n",
       "      <td>dc48f2ce-4feb-4ef7-b2a2-c3c3f42bf19b</td>\n",
       "      <td>28657539</td>\n",
       "      <td>491832</td>\n",
       "      <td>animalia</td>\n",
       "      <td>arthropoda</td>\n",
       "      <td>formicidae</td>\n",
       "      <td>arthropoda_formicidae/28657539_491832_eol-full...</td>\n",
       "    </tr>\n",
       "    <tr>\n",
       "      <th>6</th>\n",
       "      <td>3d881320-8ba8-4580-a72c-0e7ab116b664</td>\n",
       "      <td>29548208</td>\n",
       "      <td>47043290</td>\n",
       "      <td>animalia</td>\n",
       "      <td>chordata</td>\n",
       "      <td>fringillidae</td>\n",
       "      <td>chordata_fringillidae/29548208_47043290_eol-fu...</td>\n",
       "    </tr>\n",
       "    <tr>\n",
       "      <th>7</th>\n",
       "      <td>7faca96a-54e6-4c80-b9e4-77ab126d904a</td>\n",
       "      <td>21232818</td>\n",
       "      <td>1033999</td>\n",
       "      <td>animalia</td>\n",
       "      <td>arthropoda</td>\n",
       "      <td>gomphidae</td>\n",
       "      <td>arthropoda_gomphidae/21232818_1033999_eol-full...</td>\n",
       "    </tr>\n",
       "    <tr>\n",
       "      <th>8</th>\n",
       "      <td>9f89ecab-aabd-41a4-b5b4-8ce106d85959</td>\n",
       "      <td>20315204</td>\n",
       "      <td>46561012</td>\n",
       "      <td>animalia</td>\n",
       "      <td>chordata</td>\n",
       "      <td>myliobatidae</td>\n",
       "      <td>chordata_myliobatidae/20315204_46561012_eol-fu...</td>\n",
       "    </tr>\n",
       "    <tr>\n",
       "      <th>9</th>\n",
       "      <td>b6ec7a70-c470-4ede-8930-05844e1efd2e</td>\n",
       "      <td>20124498</td>\n",
       "      <td>46570095</td>\n",
       "      <td>animalia</td>\n",
       "      <td>chordata</td>\n",
       "      <td>pleuronectidae</td>\n",
       "      <td>chordata_pleuronectidae/20124498_46570095_eol-...</td>\n",
       "    </tr>\n",
       "  </tbody>\n",
       "</table>\n",
       "</div>"
      ],
      "text/plain": [
       "                        rare_species_id  eol_content_id  eol_page_id  \\\n",
       "0  75fd91cb-2881-41cd-88e6-de451e8b60e2        12853737       449393   \n",
       "1  28c508bc-63ff-4e60-9c8f-1934367e1528        20969394       793083   \n",
       "2  00372441-588c-4af8-9665-29bee20822c0        28895411       319982   \n",
       "3  29cc6040-6af2-49ee-86ec-ab7d89793828        29658536     45510188   \n",
       "4  94004bff-3a33-4758-8125-bf72e6e57eab        21252576      7250886   \n",
       "5  dc48f2ce-4feb-4ef7-b2a2-c3c3f42bf19b        28657539       491832   \n",
       "6  3d881320-8ba8-4580-a72c-0e7ab116b664        29548208     47043290   \n",
       "7  7faca96a-54e6-4c80-b9e4-77ab126d904a        21232818      1033999   \n",
       "8  9f89ecab-aabd-41a4-b5b4-8ce106d85959        20315204     46561012   \n",
       "9  b6ec7a70-c470-4ede-8930-05844e1efd2e        20124498     46570095   \n",
       "\n",
       "    kingdom      phylum            family  \\\n",
       "0  animalia    mollusca         unionidae   \n",
       "1  animalia    chordata       geoemydidae   \n",
       "2  animalia    chordata  cryptobranchidae   \n",
       "3  animalia    chordata          turdidae   \n",
       "4  animalia    chordata         indriidae   \n",
       "5  animalia  arthropoda        formicidae   \n",
       "6  animalia    chordata      fringillidae   \n",
       "7  animalia  arthropoda         gomphidae   \n",
       "8  animalia    chordata      myliobatidae   \n",
       "9  animalia    chordata    pleuronectidae   \n",
       "\n",
       "                                           file_path  \n",
       "0  mollusca_unionidae/12853737_449393_eol-full-si...  \n",
       "1  chordata_geoemydidae/20969394_793083_eol-full-...  \n",
       "2  chordata_cryptobranchidae/28895411_319982_eol-...  \n",
       "3  chordata_turdidae/29658536_45510188_eol-full-s...  \n",
       "4  chordata_indriidae/21252576_7250886_eol-full-s...  \n",
       "5  arthropoda_formicidae/28657539_491832_eol-full...  \n",
       "6  chordata_fringillidae/29548208_47043290_eol-fu...  \n",
       "7  arthropoda_gomphidae/21232818_1033999_eol-full...  \n",
       "8  chordata_myliobatidae/20315204_46561012_eol-fu...  \n",
       "9  chordata_pleuronectidae/20124498_46570095_eol-...  "
      ]
     },
     "execution_count": 7,
     "metadata": {},
     "output_type": "execute_result"
    }
   ],
   "source": [
    "metadata.head(10)"
   ]
  },
  {
   "cell_type": "code",
   "execution_count": null,
   "id": "d0561ae3-d017-4b90-bf45-53ec4d4daa96",
   "metadata": {},
   "outputs": [],
   "source": [
    "# Analise dos dados (metadata)\n",
    "# Weird Images"
   ]
  },
  {
   "cell_type": "code",
   "execution_count": 8,
   "id": "3180397a-3b5d-43f1-a0d1-a4d4b2a77480",
   "metadata": {},
   "outputs": [],
   "source": [
    "# split data into 90 - 10"
   ]
  },
  {
   "cell_type": "code",
   "execution_count": 9,
   "id": "2773c86d-46bd-4d6e-9d91-2b5f3b8aeb15",
   "metadata": {},
   "outputs": [],
   "source": [
    "label_encoder = LabelEncoder()\n",
    "metadata['label'] = label_encoder.fit_transform(metadata['family']) \n",
    "metadata['file_path'] = \"rare_species 1/\" + metadata['file_path']"
   ]
  },
  {
   "cell_type": "code",
   "execution_count": 10,
   "id": "bc5e4512-3e1b-48b4-83d3-82ed265548d4",
   "metadata": {},
   "outputs": [
    {
     "data": {
      "text/html": [
       "<div>\n",
       "<style scoped>\n",
       "    .dataframe tbody tr th:only-of-type {\n",
       "        vertical-align: middle;\n",
       "    }\n",
       "\n",
       "    .dataframe tbody tr th {\n",
       "        vertical-align: top;\n",
       "    }\n",
       "\n",
       "    .dataframe thead th {\n",
       "        text-align: right;\n",
       "    }\n",
       "</style>\n",
       "<table border=\"1\" class=\"dataframe\">\n",
       "  <thead>\n",
       "    <tr style=\"text-align: right;\">\n",
       "      <th></th>\n",
       "      <th>rare_species_id</th>\n",
       "      <th>eol_content_id</th>\n",
       "      <th>eol_page_id</th>\n",
       "      <th>kingdom</th>\n",
       "      <th>phylum</th>\n",
       "      <th>family</th>\n",
       "      <th>file_path</th>\n",
       "      <th>label</th>\n",
       "    </tr>\n",
       "  </thead>\n",
       "  <tbody>\n",
       "    <tr>\n",
       "      <th>0</th>\n",
       "      <td>75fd91cb-2881-41cd-88e6-de451e8b60e2</td>\n",
       "      <td>12853737</td>\n",
       "      <td>449393</td>\n",
       "      <td>animalia</td>\n",
       "      <td>mollusca</td>\n",
       "      <td>unionidae</td>\n",
       "      <td>rare_species 1/mollusca_unionidae/12853737_449...</td>\n",
       "      <td>193</td>\n",
       "    </tr>\n",
       "    <tr>\n",
       "      <th>1</th>\n",
       "      <td>28c508bc-63ff-4e60-9c8f-1934367e1528</td>\n",
       "      <td>20969394</td>\n",
       "      <td>793083</td>\n",
       "      <td>animalia</td>\n",
       "      <td>chordata</td>\n",
       "      <td>geoemydidae</td>\n",
       "      <td>rare_species 1/chordata_geoemydidae/20969394_7...</td>\n",
       "      <td>84</td>\n",
       "    </tr>\n",
       "    <tr>\n",
       "      <th>2</th>\n",
       "      <td>00372441-588c-4af8-9665-29bee20822c0</td>\n",
       "      <td>28895411</td>\n",
       "      <td>319982</td>\n",
       "      <td>animalia</td>\n",
       "      <td>chordata</td>\n",
       "      <td>cryptobranchidae</td>\n",
       "      <td>rare_species 1/chordata_cryptobranchidae/28895...</td>\n",
       "      <td>56</td>\n",
       "    </tr>\n",
       "  </tbody>\n",
       "</table>\n",
       "</div>"
      ],
      "text/plain": [
       "                        rare_species_id  eol_content_id  eol_page_id  \\\n",
       "0  75fd91cb-2881-41cd-88e6-de451e8b60e2        12853737       449393   \n",
       "1  28c508bc-63ff-4e60-9c8f-1934367e1528        20969394       793083   \n",
       "2  00372441-588c-4af8-9665-29bee20822c0        28895411       319982   \n",
       "\n",
       "    kingdom    phylum            family  \\\n",
       "0  animalia  mollusca         unionidae   \n",
       "1  animalia  chordata       geoemydidae   \n",
       "2  animalia  chordata  cryptobranchidae   \n",
       "\n",
       "                                           file_path  label  \n",
       "0  rare_species 1/mollusca_unionidae/12853737_449...    193  \n",
       "1  rare_species 1/chordata_geoemydidae/20969394_7...     84  \n",
       "2  rare_species 1/chordata_cryptobranchidae/28895...     56  "
      ]
     },
     "execution_count": 10,
     "metadata": {},
     "output_type": "execute_result"
    }
   ],
   "source": [
    "metadata.head(3)"
   ]
  },
  {
   "cell_type": "code",
   "execution_count": 11,
   "id": "73165f2e-574a-4af0-a922-dd738dd8bf45",
   "metadata": {},
   "outputs": [],
   "source": [
    "def load_and_preprocess_image(path, target_size=(100, 100)):\n",
    "    img = cv.imread(path)\n",
    "    img = cv.cvtColor(img, cv.COLOR_BGR2RGB)\n",
    "    img = cv.resize(img, target_size)\n",
    "    img = img.astype('float32') / 255.0\n",
    "    return img\n",
    "X = np.array([load_and_preprocess_image(path) for path in metadata['file_path']])"
   ]
  },
  {
   "cell_type": "code",
   "execution_count": 19,
   "id": "eeaa7195-58c7-4cb9-a80b-53e40f3b1fe2",
   "metadata": {},
   "outputs": [],
   "source": [
    "y = to_categorical(metadata['label'])"
   ]
  },
  {
   "cell_type": "code",
   "execution_count": 20,
   "id": "84b70d57-4412-4301-a9fd-a90cca55a0ce",
   "metadata": {},
   "outputs": [],
   "source": [
    "X_train, X_val, y_train, y_val = train_test_split(X, y, stratify=y, test_size=0.2, random_state=42)"
   ]
  },
  {
   "cell_type": "code",
   "execution_count": 21,
   "id": "f02fa47b-693b-4b1f-96ec-5c8d31b1cfa7",
   "metadata": {},
   "outputs": [
    {
     "name": "stdout",
     "output_type": "stream",
     "text": [
      "Epoch 1/10\n",
      "\u001b[1m300/300\u001b[0m \u001b[32m━━━━━━━━━━━━━━━━━━━━\u001b[0m\u001b[37m\u001b[0m \u001b[1m18s\u001b[0m 57ms/step - accuracy: 0.0372 - loss: 5.1329 - val_accuracy: 0.0955 - val_loss: 4.7136\n",
      "Epoch 2/10\n",
      "\u001b[1m300/300\u001b[0m \u001b[32m━━━━━━━━━━━━━━━━━━━━\u001b[0m\u001b[37m\u001b[0m \u001b[1m17s\u001b[0m 58ms/step - accuracy: 0.1089 - loss: 4.5299 - val_accuracy: 0.1260 - val_loss: 4.3983\n",
      "Epoch 3/10\n",
      "\u001b[1m300/300\u001b[0m \u001b[32m━━━━━━━━━━━━━━━━━━━━\u001b[0m\u001b[37m\u001b[0m \u001b[1m17s\u001b[0m 57ms/step - accuracy: 0.1989 - loss: 3.8344 - val_accuracy: 0.1460 - val_loss: 4.3610\n",
      "Epoch 4/10\n",
      "\u001b[1m300/300\u001b[0m \u001b[32m━━━━━━━━━━━━━━━━━━━━\u001b[0m\u001b[37m\u001b[0m \u001b[1m17s\u001b[0m 56ms/step - accuracy: 0.3545 - loss: 2.9007 - val_accuracy: 0.1673 - val_loss: 4.5946\n",
      "Epoch 5/10\n",
      "\u001b[1m300/300\u001b[0m \u001b[32m━━━━━━━━━━━━━━━━━━━━\u001b[0m\u001b[37m\u001b[0m \u001b[1m17s\u001b[0m 56ms/step - accuracy: 0.5485 - loss: 1.9338 - val_accuracy: 0.1619 - val_loss: 5.4149\n",
      "Epoch 6/10\n",
      "\u001b[1m300/300\u001b[0m \u001b[32m━━━━━━━━━━━━━━━━━━━━\u001b[0m\u001b[37m\u001b[0m \u001b[1m17s\u001b[0m 57ms/step - accuracy: 0.7276 - loss: 1.1369 - val_accuracy: 0.1589 - val_loss: 6.8563\n",
      "Epoch 7/10\n",
      "\u001b[1m300/300\u001b[0m \u001b[32m━━━━━━━━━━━━━━━━━━━━\u001b[0m\u001b[37m\u001b[0m \u001b[1m17s\u001b[0m 56ms/step - accuracy: 0.8707 - loss: 0.5762 - val_accuracy: 0.1477 - val_loss: 7.7935\n",
      "Epoch 8/10\n",
      "\u001b[1m300/300\u001b[0m \u001b[32m━━━━━━━━━━━━━━━━━━━━\u001b[0m\u001b[37m\u001b[0m \u001b[1m17s\u001b[0m 55ms/step - accuracy: 0.9260 - loss: 0.3298 - val_accuracy: 0.1619 - val_loss: 8.8942\n",
      "Epoch 9/10\n",
      "\u001b[1m300/300\u001b[0m \u001b[32m━━━━━━━━━━━━━━━━━━━━\u001b[0m\u001b[37m\u001b[0m \u001b[1m17s\u001b[0m 56ms/step - accuracy: 0.9579 - loss: 0.1805 - val_accuracy: 0.1539 - val_loss: 10.1231\n",
      "Epoch 10/10\n",
      "\u001b[1m300/300\u001b[0m \u001b[32m━━━━━━━━━━━━━━━━━━━━\u001b[0m\u001b[37m\u001b[0m \u001b[1m17s\u001b[0m 57ms/step - accuracy: 0.9751 - loss: 0.1307 - val_accuracy: 0.1577 - val_loss: 10.5271\n"
     ]
    },
    {
     "data": {
      "text/plain": [
       "<keras.src.callbacks.history.History at 0x18768ddec90>"
      ]
     },
     "execution_count": 21,
     "metadata": {},
     "output_type": "execute_result"
    }
   ],
   "source": [
    "model = Sequential([\n",
    "    Conv2D(32, (3,3), activation='relu', input_shape=(100, 100, 3)),\n",
    "    MaxPooling2D(),\n",
    "    Conv2D(64, (3,3), activation='relu'),\n",
    "    MaxPooling2D(),\n",
    "    Flatten(),\n",
    "    Dense(128, activation='relu'),\n",
    "    Dense(len(metadata['label'].unique()), activation='softmax') \n",
    "])\n",
    "\n",
    "model.compile(optimizer='adam', loss='categorical_crossentropy', metrics=['accuracy'])\n",
    "\n",
    "model.fit(X_train, y_train, validation_data=(X_val, y_val), epochs=10, batch_size=32)"
   ]
  },
  {
   "cell_type": "code",
   "execution_count": 22,
   "id": "ee6db640-040d-4c98-a77d-a4d3ede7e426",
   "metadata": {},
   "outputs": [
    {
     "name": "stdout",
     "output_type": "stream",
     "text": [
      "\u001b[1m75/75\u001b[0m \u001b[32m━━━━━━━━━━━━━━━━━━━━\u001b[0m\u001b[37m\u001b[0m \u001b[1m1s\u001b[0m 11ms/step\n",
      "F1 Score: 0.14814192448488203\n"
     ]
    }
   ],
   "source": [
    "# Make predictions\n",
    "y_pred = model.predict(X_val)  # (for validation data)\n",
    "y_pred_classes = np.argmax(y_pred, axis=1)  # get predicted class labels\n",
    "\n",
    "# True class labels\n",
    "y_true = np.argmax(y_val, axis=1)  # convert one-hot encoded labels to class indices\n",
    "\n",
    "# Calculate F1 score\n",
    "f1 = f1_score(y_true, y_pred_classes, average='weighted')  # weighted for class imbalance\n",
    "\n",
    "print(f\"F1 Score: {f1}\")"
   ]
  },
  {
   "cell_type": "code",
   "execution_count": null,
   "id": "75c24c79-49eb-4ed6-b439-a25ec4fd4b69",
   "metadata": {},
   "outputs": [],
   "source": []
  }
 ],
 "metadata": {
  "colab": {
   "provenance": []
  },
  "kernelspec": {
   "display_name": "Python 3 (ipykernel)",
   "language": "python",
   "name": "python3"
  },
  "language_info": {
   "codemirror_mode": {
    "name": "ipython",
    "version": 3
   },
   "file_extension": ".py",
   "mimetype": "text/x-python",
   "name": "python",
   "nbconvert_exporter": "python",
   "pygments_lexer": "ipython3",
   "version": "3.11.9"
  }
 },
 "nbformat": 4,
 "nbformat_minor": 5
}
