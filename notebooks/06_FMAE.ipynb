{
 "cells": [
  {
   "cell_type": "markdown",
   "id": "01d35f29",
   "metadata": {},
   "source": [
    "<div style=\"border-left: 6px solid #ffffff; padding:20px; border-radius:10px; font-family:Arial, sans-serif; text-align:center; font-size:28px; font-weight:bold;\">\n",
    "  🏁 06 – Final Model and Export\n",
    "</div>\n",
    "\n",
    "<div style=\"margin-left:60px; padding:10px; font-family:Arial, sans-serif; font-size:16px;\"> \n",
    "  <p>In this final notebook, we export the best performing model and all necessary files for future deployment, reproducibility, or further experiments.</p>\n",
    "  \n",
    "  <p>We save the trained model, weights, classification reports, confusion matrices, and prediction files to the respective project directories.</p>\n",
    "</div>\n"
   ]
  },
  {
   "cell_type": "code",
   "execution_count": 1,
   "id": "11a61b09",
   "metadata": {},
   "outputs": [],
   "source": [
    "from tensorflow.keras.models import load_model\n",
    "from pathlib import Path"
   ]
  },
  {
   "cell_type": "code",
   "execution_count": 2,
   "id": "6a4d0ac4",
   "metadata": {},
   "outputs": [],
   "source": [
    "PROJECT_ROOT = Path().resolve().parent\n",
    "MODELS_DIR = PROJECT_ROOT / 'models'"
   ]
  },
  {
   "cell_type": "markdown",
   "id": "e96b4919",
   "metadata": {},
   "source": [
    "\n",
    "<div style=\"border-left: 6px solid #27ae60; margin-left:40px; padding:10px; border-radius:10px; font-family:Arial, sans-serif; font-size:24px;\">\n",
    "  <h2 style=\"margin-top: 0; font-size:24px;\">📦 Load the Best Model</h2>\n",
    "</div>\n"
   ]
  },
  {
   "cell_type": "code",
   "execution_count": 4,
   "id": "40cf5d95",
   "metadata": {},
   "outputs": [
    {
     "name": "stderr",
     "output_type": "stream",
     "text": [
      "WARNING:absl:Compiled the loaded model, but the compiled metrics have yet to be built. `model.compile_metrics` will be empty until you train or evaluate the model.\n"
     ]
    }
   ],
   "source": [
    "model = load_model(MODELS_DIR / 'mobilenetv2_tuned.h5')"
   ]
  },
  {
   "cell_type": "markdown",
   "id": "3310c912",
   "metadata": {},
   "source": [
    "\n",
    "<div style=\"border-left: 6px solid #27ae60; margin-left:40px; padding:10px; border-radius:10px; font-family:Arial, sans-serif; font-size:24px;\">\n",
    "  <h2 style=\"margin-top: 0; font-size:24px;\">📦 Export The Final Model</h2>\n",
    "</div>\n"
   ]
  },
  {
   "cell_type": "code",
   "execution_count": 5,
   "id": "4a25e7df",
   "metadata": {},
   "outputs": [
    {
     "name": "stderr",
     "output_type": "stream",
     "text": [
      "WARNING:absl:You are saving your model as an HDF5 file via `model.save()` or `keras.saving.save_model(model)`. This file format is considered legacy. We recommend using instead the native Keras format, e.g. `model.save('my_model.keras')` or `keras.saving.save_model(model, 'my_model.keras')`. \n"
     ]
    },
    {
     "name": "stdout",
     "output_type": "stream",
     "text": [
      "✅ Model and weights saved successfully!\n"
     ]
    }
   ],
   "source": [
    "model.save(MODELS_DIR / 'final_solution' / 'mobilenetv2_final.h5')\n",
    "\n",
    "model.save_weights(MODELS_DIR / 'final_solution' / 'mobilenetv2_final.weights.h5')\n",
    "\n",
    "print(\"✅ Model and weights saved successfully!\")"
   ]
  }
 ],
 "metadata": {
  "kernelspec": {
   "display_name": "Python 3",
   "language": "python",
   "name": "python3"
  },
  "language_info": {
   "codemirror_mode": {
    "name": "ipython",
    "version": 3
   },
   "file_extension": ".py",
   "mimetype": "text/x-python",
   "name": "python",
   "nbconvert_exporter": "python",
   "pygments_lexer": "ipython3",
   "version": "3.11.0"
  }
 },
 "nbformat": 4,
 "nbformat_minor": 5
}
